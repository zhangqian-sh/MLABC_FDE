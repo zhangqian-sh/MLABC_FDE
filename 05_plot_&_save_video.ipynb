{
 "cells": [
  {
   "cell_type": "code",
   "execution_count": null,
   "metadata": {},
   "outputs": [],
   "source": [
    "import matplotlib.pyplot as plt\n",
    "import numpy as np\n",
    "from matplotlib.animation import FFMpegWriter\n",
    "import time\n",
    "from joblib import load, dump"
   ]
  },
  {
   "cell_type": "markdown",
   "metadata": {},
   "source": [
    "generate video of how the shock wave propagate"
   ]
  },
  {
   "cell_type": "code",
   "execution_count": null,
   "metadata": {},
   "outputs": [],
   "source": [
    "# Load data\n",
    "path_data = \"data/Solution/Local/\"\n",
    "phi_exact = np.loadtxt(path_data + \"phi_exact.csv\", delimiter=\",\")\n",
    "phi_BC = np.loadtxt(path_data + \"phi_BC.csv\", delimiter=\",\")\n",
    "phi_0 = np.loadtxt(path_data + \"phi_0.csv\", delimiter=\",\")"
   ]
  },
  {
   "cell_type": "code",
   "execution_count": null,
   "metadata": {},
   "outputs": [],
   "source": [
    "# show\n",
    "T = phi_exact.shape[0]\n",
    "L_s = 0\n",
    "L_e = 401\n",
    "\n",
    "x = np.linspace(L_s, L_e, L_e - L_s)\n",
    "metadata = dict(title='Phi', artist='Qian Zhang', comment='FDE BC')\n",
    "writer = FFMpegWriter(fps=30, metadata=metadata)\n",
    "\n",
    "time_start = time.time()\n",
    "fig = plt.figure()\n",
    "\n",
    "with writer.saving(fig, \"visual/phi_Ridge_450_(2,1).mp4\", 100):\n",
    "    for i in range(0, T, 10):\n",
    "        plt.ylim(-0.4, 1 + 1.2)\n",
    "        plt.plot(x, phi_exact[i][L_s:L_e], 'r')\n",
    "        plt.plot(x, phi_BC[i][L_s:L_e], 'b')\n",
    "        plt.plot(x, phi_0[i][L_s:L_e], 'g')\n",
    "        writer.grab_frame()\n",
    "        plt.cla()\n",
    "        \n",
    "time_end = time.time()\n",
    "print(\"time = %f\" % (time_end - time_start))"
   ]
  },
  {
   "cell_type": "markdown",
   "metadata": {},
   "source": [
    "plot the total variation of E for each n over time s"
   ]
  },
  {
   "cell_type": "code",
   "execution_count": null,
   "metadata": {},
   "outputs": [],
   "source": [
    "# load E\n",
    "E = np.loadtxt(\"data/train_data/E.csv\", delimiter=\",\")\n",
    "print(E.shape)"
   ]
  },
  {
   "cell_type": "code",
   "execution_count": null,
   "metadata": {},
   "outputs": [],
   "source": [
    "VarE = np.zeros(E.shape[1])\n",
    "for i in range(E.shape[0] - 1):\n",
    "    VarE += abs(E[i + 1] - E[i])\n",
    "x = np.linspace(0,E.shape[1] - 1,E.shape[1])\n",
    "start_left = 380\n",
    "plt.plot(x[start_left:], VarE[start_left:], \"g\")\n",
    "plt.xticks(np.linspace(start_left, E.shape[1] - 1, 5))\n",
    "plt.xlabel(\"n\")\n",
    "plt.ylabel(\"Total Variation of $E_n^s$\")\n",
    "plt.show()"
   ]
  },
  {
   "cell_type": "markdown",
   "metadata": {},
   "source": [
    "generate video of how E evolves with time"
   ]
  },
  {
   "cell_type": "code",
   "execution_count": null,
   "metadata": {},
   "outputs": [],
   "source": [
    "# show\n",
    "T = E.shape[0]\n",
    "L_s = 0\n",
    "L_e = 401\n",
    "\n",
    "x = np.linspace(L_s, L_e, L_e - L_s)\n",
    "\n",
    "metadata = dict(title='E', artist='Qian Zhang', comment='FDE BC')\n",
    "writer = FFMpegWriter(fps=30, metadata=metadata)\n",
    "\n",
    "time_start = time.time()\n",
    "fig = plt.figure()\n",
    "\n",
    "with writer.saving(fig, \"visual/E_5.mp4\", 100):\n",
    "    for i in range(0, T, 10):\n",
    "        plt.ylim(-0.3, 0.3)\n",
    "        plt.plot(x, E[i], 'b')\n",
    "        writer.grab_frame()\n",
    "        plt.cla()\n",
    "        \n",
    "time_end = time.time()\n",
    "print(\"time = %f\" % (time_end - time_start))"
   ]
  },
  {
   "cell_type": "markdown",
   "metadata": {},
   "source": [
    "compute the error between $\\phi_{BC}$ and $\\phi_{exact}$"
   ]
  },
  {
   "cell_type": "code",
   "execution_count": null,
   "metadata": {},
   "outputs": [],
   "source": [
    "phi_exact = np.loadtxt(\"data/Solution/Local/phi_exact_init_sin.csv\", delimiter=\",\")\n",
    "phi_BC = np.loadtxt(\"data/Solution/Local/phi_BC_init_sin.csv\", delimiter=\",\")"
   ]
  },
  {
   "cell_type": "code",
   "execution_count": null,
   "metadata": {},
   "outputs": [],
   "source": [
    "# Compare the figure of the solution\n",
    "(N, L) = phi_exact.shape\n",
    "print(N, L)\n",
    "x = np.linspace(0, L - 1, L)\n",
    "for i in range(0, N, int(N / 15)):\n",
    "    plt.plot(x, phi_exact[i], \"r\")\n",
    "    plt.plot(x, phi_BC[i], \"b\", linestyle=\"-.\")\n",
    "\n",
    "plt.xlabel(\"n\")\n",
    "plt.ylabel(\"$\\phi$\")\n",
    "plt.tight_layout()\n",
    "plt.show()"
   ]
  },
  {
   "cell_type": "code",
   "execution_count": null,
   "metadata": {},
   "outputs": [],
   "source": [
    "# time average (space distribution of error)\n",
    "Dphi = abs(phi_exact - phi_BC)\n",
    "\n",
    "plt.plot(x, np.mean(Dphi, axis=0), \"g\")\n",
    "plt.xlabel(\"n\")\n",
    "plt.ylabel(\"$\\overline{\\Delta\\phi_t}$\")\n",
    "plt.xlim(0,400)\n",
    "plt.ylim(0,4e-2)\n",
    "plt.show()"
   ]
  },
  {
   "cell_type": "code",
   "execution_count": null,
   "metadata": {},
   "outputs": [],
   "source": [
    "# space average (time evolution of error)\n",
    "t = np.linspace(2, N - 1, N - 2)\n",
    "plt.plot(t, np.mean(Dphi[2:], axis=1), \"g\")\n",
    "plt.xlabel(\"n\")\n",
    "plt.ylabel(\"$\\overline{\\Delta\\phi_n}$\")\n",
    "plt.xlim(2,N - 1)\n",
    "plt.ylim(0,6e-3)\n",
    "plt.show()"
   ]
  }
 ],
 "metadata": {
  "kernelspec": {
   "display_name": "Python 3",
   "language": "python",
   "name": "python3"
  },
  "language_info": {
   "codemirror_mode": {
    "name": "ipython",
    "version": 3
   },
   "file_extension": ".py",
   "mimetype": "text/x-python",
   "name": "python",
   "nbconvert_exporter": "python",
   "pygments_lexer": "ipython3",
   "version": "3.7.7"
  }
 },
 "nbformat": 4,
 "nbformat_minor": 4
}
