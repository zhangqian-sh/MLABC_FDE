{
 "cells": [
  {
   "cell_type": "code",
   "execution_count": null,
   "metadata": {},
   "outputs": [],
   "source": [
    "import numpy as np\n",
    "from sklearn.linear_model import Ridge\n",
    "from sklearn.metrics import mean_squared_error, r2_score\n",
    "from joblib import dump, load"
   ]
  },
  {
   "cell_type": "code",
   "execution_count": null,
   "metadata": {},
   "outputs": [],
   "source": [
    "path_train = \"data/train_data/train/\"\n",
    "path_test = \"data/train_data/test/\"\n",
    "\n",
    "E_train = np.loadtxt(path_train + \"E_train.csv\", delimiter=\",\")\n",
    "phi_train = np.loadtxt(path_train + \"phi_train.csv\", delimiter=\",\")\n",
    "\n",
    "E_test = np.loadtxt(path_test + \"E_test.csv\", delimiter=\",\")\n",
    "phi_test = np.loadtxt(path_test + \"phi_test.csv\", delimiter=\",\")"
   ]
  },
  {
   "cell_type": "code",
   "execution_count": null,
   "metadata": {},
   "outputs": [],
   "source": [
    "feature_out = 15"
   ]
  },
  {
   "cell_type": "code",
   "execution_count": null,
   "metadata": {},
   "outputs": [],
   "source": [
    "# Save left(upper) part of r\n",
    "E = np.loadtxt(\"data/train_data/E.csv\", delimiter=\",\")\n",
    "E_left = E[0, :E.shape[1] - feature_out]\n",
    "np.savetxt(\"model/left.csv\", E_left, delimiter=\",\")"
   ]
  },
  {
   "cell_type": "code",
   "execution_count": null,
   "metadata": {},
   "outputs": [],
   "source": [
    "L = 401\n",
    "r2_score_list = np.zeros(L)\n",
    "\n",
    "# training on all feature_in, from 0 to 400\n",
    "for idx in range(L):\n",
    "    if idx % (int(L / 10)) == 0:\n",
    "        print(idx)\n",
    "    r2_score_avg = np.zeros(feature_out)\n",
    "    \n",
    "    for idy in range(0, feature_out):\n",
    "        \n",
    "        # regressoion training\n",
    "        y = E_train[:, E_train.shape[1] - 1 - idy]\n",
    "        x = phi_train[:, phi_train.shape[1] - 1 - idx:]\n",
    "\n",
    "        reg = Ridge(alpha=0.05, solver=\"cholesky\")\n",
    "        model = reg.fit(x, y)\n",
    "        \n",
    "        # test\n",
    "        x = phi_test[:, phi_test.shape[1] - 1 - idx:]\n",
    "        y_pred = reg.predict(x)\n",
    "        y_true = E_test[:, E_test.shape[1] - 1 - idy]\n",
    "        \n",
    "        r2_score_avg[idy] = r2_score(y_true, y_pred)\n",
    "\n",
    "    r2_score_list[idx] = np.mean(r2_score_avg)"
   ]
  },
  {
   "cell_type": "code",
   "execution_count": null,
   "metadata": {},
   "outputs": [],
   "source": [
    "r2_score_n = np.array(r2_score_list)\n",
    "np.savetxt(\"model/Ridge/r2_score.csv\", r2_score, delimiter=\",\")"
   ]
  },
  {
   "cell_type": "code",
   "execution_count": null,
   "metadata": {},
   "outputs": [],
   "source": [
    "import matplotlib.pyplot as plt\n",
    "\n",
    "L = r2_score_list.shape[0]\n",
    "x = np.linspace(0, 400, 401)\n",
    "\n",
    "plt.xlim(1, 400)\n",
    "plt.ylim(0.998, 1)\n",
    "plt.xlabel(\"$N_\\phi$\")\n",
    "plt.ylabel(\"$\\Delta R^2$\")\n",
    "plt.plot(x[1:], r2_score_list[1:], \"g\")\n",
    "plt.tight_layout()\n",
    "plt.show()\n",
    "\n",
    "y_var = np.ones(L)\n",
    "for i in range(1, L):\n",
    "    y_var[i] = r2_score_list[i] - r2_score_list[i-1]\n",
    "plt.xlim(1,400)\n",
    "plt.ylim(0,5e-7)\n",
    "\n",
    "plt.xlabel(\"$N_\\phi$\")\n",
    "plt.ylabel(\"$\\Delta R^2$\")\n",
    "plt.plot(x[20:], y_var[20:], \"g\")\n",
    "plt.tight_layout()\n",
    "plt.show()"
   ]
  },
  {
   "cell_type": "code",
   "execution_count": null,
   "metadata": {},
   "outputs": [],
   "source": [
    "# training set num\n",
    "feature_in = 200\n",
    "path_model = \"model/Ridge/\"\n",
    "\n",
    "# train\n",
    "for idy in range(0, feature_out):\n",
    "    \n",
    "    print(\"model\", idy)\n",
    "\n",
    "    # regressoion training\n",
    "    y = E_train[:, E_train.shape[1] - 1 - idy]\n",
    "    x = phi_train[:, phi_train.shape[1] - feature_in:]\n",
    "\n",
    "    reg = Ridge(alpha=0.05, solver=\"cholesky\")\n",
    "    model = reg.fit(x, y)\n",
    "    \n",
    "    dump(reg, path_model + \"Ridge\" + str(idy) + \".model\")\n",
    "\n",
    "    # test\n",
    "    x = phi_test[:, phi_test.shape[1] - feature_in:]\n",
    "    y_pred = reg.predict(x)\n",
    "    y_true = E_test[:, E_test.shape[1] - 1 - idy]\n",
    "    print(idy,\n",
    "          'Mean squared error: %.12f' % mean_squared_error(y_true, y_pred),\n",
    "          'Coefficient of determination: %.12f' % r2_score(y_true, y_pred))\n",
    "    "
   ]
  },
  {
   "cell_type": "code",
   "execution_count": null,
   "metadata": {},
   "outputs": [],
   "source": [
    "# turn to matrix form\n",
    "model = []\n",
    "for i in range(feature_out):\n",
    "    model.append(load(\"model/Ridge/Ridge\"+str(i)+\".model\"))\n",
    "print(len(model[0].coef_))\n",
    "L = 401\n",
    "zero_left = np.zeros(L - feature_in)\n",
    "A = np.zeros((L, L))\n",
    "r = np.zeros(L)\n",
    "\n",
    "for j in range(L - 1, L - feature_out - 1, -1):\n",
    "    row_temp = np.concatenate([zero_left, model[L - 1 - j].coef_])\n",
    "    A[j] = row_temp\n",
    "    r[j] = model[L - 1 - j].intercept_\n",
    "\n",
    "b = np.zeros(L)\n",
    "left = np.loadtxt(\"model/left.csv\", delimiter=\",\")\n",
    "b[ : left.shape[0]] = left\n",
    "b_tilda = b + r"
   ]
  },
  {
   "cell_type": "code",
   "execution_count": null,
   "metadata": {},
   "outputs": [],
   "source": [
    "np.savetxt(\"model/Matrix_form/A.csv\", A, delimiter=\",\")\n",
    "np.savetxt(\"model/Matrix_form/b_tilda.csv\", b_tilda, delimiter=\",\")\n",
    "np.savetxt(\"model/Matrix_form/r.csv\", r, delimiter=\",\")"
   ]
  }
 ],
 "metadata": {
  "kernelspec": {
   "display_name": "Python 3",
   "language": "python",
   "name": "python3"
  },
  "language_info": {
   "codemirror_mode": {
    "name": "ipython",
    "version": 3
   },
   "file_extension": ".py",
   "mimetype": "text/x-python",
   "name": "python",
   "nbconvert_exporter": "python",
   "pygments_lexer": "ipython3",
   "version": "3.7.7"
  }
 },
 "nbformat": 4,
 "nbformat_minor": 4
}
